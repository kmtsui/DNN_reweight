{
 "metadata": {
  "language_info": {
   "codemirror_mode": {
    "name": "ipython",
    "version": 3
   },
   "file_extension": ".py",
   "mimetype": "text/x-python",
   "name": "python",
   "nbconvert_exporter": "python",
   "pygments_lexer": "ipython3",
   "version": "3.7.1-final"
  },
  "orig_nbformat": 2,
  "kernelspec": {
   "name": "python3.6.3_omnifold-env",
   "display_name": "python3.6.3_omnifold-env",
   "language": "python"
  }
 },
 "nbformat": 4,
 "nbformat_minor": 2,
 "cells": [
  {
   "cell_type": "code",
   "execution_count": 1,
   "metadata": {},
   "outputs": [
    {
     "output_type": "stream",
     "name": "stdout",
     "text": [
      "2.4.1\n"
     ]
    }
   ],
   "source": [
    "from __future__ import absolute_import, division, print_function\n",
    "\n",
    "import math\n",
    "\n",
    "import numpy as np\n",
    "from matplotlib import pyplot as plt\n",
    "\n",
    "from sklearn.model_selection import train_test_split\n",
    "\n",
    "import tensorflow as tf\n",
    "from keras.layers import Dense, Input, Dropout\n",
    "from keras.models import Model\n",
    "from keras.callbacks import EarlyStopping\n",
    "\n",
    "print(tf.__version__)"
   ]
  },
  {
   "cell_type": "code",
   "execution_count": 2,
   "metadata": {},
   "outputs": [],
   "source": [
    "# Define default plot styles  \n",
    "\n",
    "from matplotlib import rc\n",
    "import matplotlib.font_manager\n",
    "\n",
    "rc('font', family='serif')\n",
    "rc('text', usetex=True)\n",
    "rc('font', size=22)\n",
    "rc('xtick', labelsize=15)\n",
    "rc('ytick', labelsize=15)\n",
    "rc('legend', fontsize=15)\n",
    "\n",
    "plot_style_0 = {\n",
    "    'histtype': 'step',\n",
    "    'color': 'black',\n",
    "    'linewidth': 2,\n",
    "    'linestyle': '--',\n",
    "    'density': False\n",
    "}\n",
    "\n",
    "plot_style_1 = {\n",
    "    'histtype': 'step',\n",
    "    'color': 'black',\n",
    "    'linewidth': 2,\n",
    "    'density': False\n",
    "}\n",
    "\n",
    "plot_style_2 = {'alpha': 0.5, 'density': False}"
   ]
  },
  {
   "cell_type": "code",
   "execution_count": 3,
   "metadata": {},
   "outputs": [
    {
     "output_type": "stream",
     "name": "stdout",
     "text": [
      "Welcome to JupyROOT 6.22/09\n"
     ]
    }
   ],
   "source": [
    "# use pyroot for I/O\n",
    "import ROOT\n",
    "from ROOT import TCanvas, TPad, TFile, TPaveText\n",
    "from ROOT import gBenchmark, gStyle, gROOT\n",
    "def getarray_selected(filename):\n",
    "    f = TFile(filename)\n",
    "    tree = gROOT.FindObject('selectedEvents')\n",
    "    array = tree.AsMatrix(columns=[ \"dptt_rec\",\"pN_rec\",\"daT_rec\",\"muMomRec\",\"muCosThetaRec\",\"piMomRec\",\"piCosThetaRec\",\"pMomRec\",\"pCosThetaRec\",\"cutBranch\",\"weight\",\n",
    "                                    \"topology\",\"target\",\"dptt_truth\",\"pN_truth\",\"daT_truth\",\n",
    "                                    \"muMomTrue\",\"muCosThetaTrue\",\"piMomTrue\",\"piCosThetaTrue\",\"pMomTrue\",\"pCosThetaTrue\",\"Enutrue\"])\n",
    "    #array11=array[array[:,8]==1]\n",
    "    array11=array\n",
    "    #array11=array11[array11[:,9]==1]\n",
    "    #array11=array11[:,0:7]\n",
    "    array11[:,0]=array11[:,0]/10**3 # unit conversion to make all numbers to be O(1)\n",
    "    array11[:,1]=array11[:,1]/10**3\n",
    "    array11[:,2]=array11[:,2]/180\n",
    "    array11[:,3]=array11[:,3]/10**3\n",
    "    array11[:,5]=array11[:,5]/10**3\n",
    "    array11[:,7]=array11[:,7]/10**3\n",
    "    array11[:,9]=array11[:,9]/5\n",
    "    #nGenEv = 40000000 # total number of events generated in the file, to calculate proper xsec normalization\n",
    "    return array11#,array[0,7]/nGenEv\n",
    "selected_neut6T = getarray_selected('/hepstore/kmtsui/T2K/work/xsLLhFitter_super/inputs/neut_prod6T_allTKI_geomfixed.root')\n",
    "selected_genie = getarray_selected('/hepstore/kmtsui/T2K/work/xsLLhFitter_super/inputs/genie_allTKI_geomfixed.root')"
   ]
  },
  {
   "cell_type": "code",
   "execution_count": 4,
   "metadata": {},
   "outputs": [
    {
     "output_type": "execute_result",
     "data": {
      "text/plain": [
       "array([-4.07499023e-01,  1.48850879e+00,  9.11690776e-01,  4.98728564e+00,\n",
       "        9.78087664e-01,  7.39538269e-01,  9.63274121e-01,  8.49755554e-01,\n",
       "        8.00695479e-01,  6.00000000e-01,  1.14200912e-01,  8.00000000e+00,\n",
       "        6.00000000e+00, -9.99000000e+02, -9.99000000e+02, -9.99000000e+02,\n",
       "        4.29008252e+03,  9.78433311e-01, -9.99000000e+02, -9.99000000e+02,\n",
       "        8.67040894e+02,  9.45809126e-01,  8.58656934e+03])"
      ]
     },
     "metadata": {},
     "execution_count": 4
    }
   ],
   "source": [
    "selected_genie[0]"
   ]
  },
  {
   "cell_type": "code",
   "execution_count": null,
   "metadata": {},
   "outputs": [],
   "source": [
    "# set up the DNN model for training\n",
    "ndim=10\n",
    "inputs = Input((ndim, )) # 7d vector as input\n",
    "hidden_layer_1 = Dense(50, activation='relu')(inputs)\n",
    "dropout_layer_1 = Dropout(0.2)(hidden_layer_1)\n",
    "hidden_layer_2 = Dense(50, activation='relu')(dropout_layer_1)\n",
    "dropout_layer_2 = Dropout(0.2)(hidden_layer_2)\n",
    "hidden_layer_3 = Dense(50, activation='relu')(dropout_layer_2)\n",
    "dropout_layer_3 = Dropout(0.2)(hidden_layer_3)\n",
    "outputs = Dense(1, activation='sigmoid')(dropout_layer_3)\n",
    "\n",
    "model = Model(inputs=inputs, outputs=outputs)\n",
    "\n",
    "earlystopping = EarlyStopping(patience=10, \n",
    "                              verbose=1,\n",
    "                              restore_best_weights=True)"
   ]
  },
  {
   "cell_type": "code",
   "execution_count": null,
   "metadata": {
    "tags": []
   },
   "outputs": [],
   "source": [
    "from tensorflow_addons.optimizers import AdamW\n",
    "\n",
    "#just use a fraction of data for training\n",
    "#nevents = 10**6\n",
    "batch_size_defined = 1000\n",
    "\n",
    "x_data_and_MCback = np.concatenate([selected_neut6T[:,0:ndim],selected_genie[:,0:ndim]])\n",
    "    \n",
    "y_data_and_MCback = np.concatenate([np.zeros(len(selected_neut6T[:,0:ndim])),\n",
    "                                    np.ones(len(selected_genie[:,0:ndim]))])\n",
    "    \n",
    "W_data_and_MCback = np.concatenate([ selected_neut6T[:,ndim], selected_genie[:,ndim] ])\n",
    "\n",
    "X_train_1, X_test_1, Y_train_1, Y_test_1, w_train_1, w_test_1 = train_test_split(\n",
    "    x_data_and_MCback, y_data_and_MCback, W_data_and_MCback)\n",
    "\n",
    "\n",
    "optimizer = AdamW(weight_decay=0.001,learning_rate=0.001)\n",
    "\n",
    "model.compile(loss='binary_crossentropy',\n",
    "              optimizer= optimizer,\n",
    "              metrics=['accuracy'])\n",
    "\n",
    "\n",
    "model.fit(X_train_1,\n",
    "          Y_train_1,\n",
    "          sample_weight=w_train_1,\n",
    "          epochs=200,\n",
    "          batch_size=batch_size_defined,\n",
    "          validation_data=(X_test_1, Y_test_1, w_test_1),\n",
    "          callbacks=[earlystopping],\n",
    "          verbose=1)\n"
   ]
  },
  {
   "cell_type": "code",
   "execution_count": null,
   "metadata": {},
   "outputs": [],
   "source": [
    "# from NN (DCTR)\n",
    "def reweight(events):\n",
    "    f = model.predict(events, batch_size=batch_size_defined)\n",
    "    weights = f / (1. - f)\n",
    "    weights[weights>10]=10\n",
    "    return np.squeeze(np.nan_to_num(weights))"
   ]
  },
  {
   "cell_type": "code",
   "execution_count": null,
   "metadata": {},
   "outputs": [],
   "source": [
    "# get the reweight value\n",
    "w_model = reweight(array11_Eb0[:,0:ndim])"
   ]
  },
  {
   "cell_type": "code",
   "execution_count": null,
   "metadata": {},
   "outputs": [],
   "source": [
    "w_model"
   ]
  },
  {
   "cell_type": "code",
   "execution_count": null,
   "metadata": {},
   "outputs": [],
   "source": [
    "# make plots\n",
    "for plotNum in range(7):\n",
    "\n",
    "        w_norm=1./(np.sum(w_model)/len(w_model))*w27*len(array11_Eb27)/w0/len(array11_Eb0) #properly weight to normalize the reweighted events\n",
    "\n",
    "        bins_Enu = np.linspace(0.4, 6, 41)\n",
    "        bins_mumom = np.linspace(0, 6, 41)\n",
    "        bins_mutheta = np.linspace(-1, 1, 41)\n",
    "        bins_pimom = np.linspace(0, 1.500, 41)\n",
    "        bins_pitheta = np.linspace(-1, 1, 41)\n",
    "        bins_mupitheta = np.linspace(-1, 1, 41)\n",
    "        bins_q2 = np.linspace(0, 2, 21)\n",
    "\n",
    "        xlabel = (r\"$E_\\nu (MeV)$\",r\"$p_\\mu (MeV)$\",r\"$\\cos\\theta_\\mu$\",r\"$p_\\pi (MeV)$\",r\"$\\cos\\theta_\\pi$\",r\"$\\cos\\theta_{\\mu\\pi}$\",r\"$Q2 (GeV^2)$\")\n",
    "\n",
    "        bins_array = (bins_Enu,bins_mumom,bins_mutheta,bins_pimom,bins_pitheta,bins_mupitheta,bins_q2)\n",
    "        legend_loc = ('lower right','center right','center left','center left','center left','center left','center right')\n",
    "\n",
    "        bins_w= np.linspace(0, 10, 101)\n",
    "\n",
    "        fig, ax = plt.subplots(2,\n",
    "                            2,\n",
    "                            figsize=(12, 10),\n",
    "                            constrained_layout=True,\n",
    "                            #sharey='row'\n",
    "                            )\n",
    "\n",
    "        binwidth = bins_array[plotNum][1]-bins_array[plotNum][0]\n",
    "\n",
    "        ax[0,0].set_xlabel(xlabel[plotNum])\n",
    "        ax[0,0].set_ylabel(r'$d\\sigma/dvar$')\n",
    "        h1=ax[0,0].hist(array11_Eb0[:,plotNum], bins=bins_array[plotNum], **plot_style_2, label='Eb=0',weights=w0/binwidth*np.ones(len(array11_Eb0)),color=\"blue\")\n",
    "        h2=ax[0,0].hist(array11_Eb27[:,plotNum], bins=bins_array[plotNum], **plot_style_2, label='Eb=27MeV',weights=w27/binwidth*np.ones(len(array11_Eb27)),color=\"red\")\n",
    "        legend = ax[0,0].legend(\n",
    "                    title='NuWro MC mode11',\n",
    "                    loc=legend_loc[plotNum],\n",
    "                    frameon=False)\n",
    "        plt.setp(legend.get_title(), multialignment='center')\n",
    "        ax2 = ax[0,0].twinx()\n",
    "        ax2.set_ylabel('ratio')\n",
    "        bincenter = 0.5 * (h1[1][1:] + h1[1][:-1])\n",
    "        plt.errorbar(bincenter, h1[0]/h1[0], fmt='-', color=\"blue\")\n",
    "        plt.errorbar(bincenter, h2[0]/h1[0], fmt='-', color=\"red\")\n",
    "\n",
    "        ax[0,1].set_xlabel(xlabel[plotNum])\n",
    "        ax[0,1].set_ylabel(r'$d\\sigma/dvar$')\n",
    "        #ax[0,1].hist(array11_Eb0[:,2], bins=bins_mutheta, **plot_style_2, label='Eb=0',weights=array11_Eb0[:,6]/40000000/0.05)\n",
    "        #ax[0,1].hist(array11_Eb27[:,2], bins=bins_mutheta, **plot_style_2, label='Eb=27MeV',weights=array11_Eb27[:,6]/40000000/0.05)\n",
    "        h3=ax[0,1].hist(array11_Eb0[:,plotNum], bins=bins_array[plotNum], **plot_style_2, label='Eb=0',weights=w0/binwidth*np.ones(len(array11_Eb0)),color=\"blue\")\n",
    "        h4=ax[0,1].hist(array11_Eb0[:,plotNum], bins=bins_array[plotNum], **plot_style_2, label='Eb=27MeV (Reweight)',\n",
    "                        weights=w0/binwidth*np.double(w_model)*w_norm,color=\"orange\")\n",
    "        ax4 = ax[0,1].twinx()\n",
    "        ax4.set_ylabel('ratio')\n",
    "        plt.errorbar(bincenter, h3[0]/h3[0], fmt='-', color=\"blue\")\n",
    "        plt.errorbar(bincenter, h4[0]/h3[0], fmt='-', color=\"orange\")\n",
    "        plt.errorbar(bincenter, h2[0]/h1[0], fmt='-', color=\"red\")\n",
    "        plt.errorbar(bincenter,  h4[0]/h3[0]/(h2[0]/h1[0]), fmt='-', color=\"black\",label=\"Ratio of Ratio\")\n",
    "        legend = ax[0,1].legend(\n",
    "                    title='NuWro MC mode11',\n",
    "                    loc=legend_loc[plotNum],\n",
    "                    frameon=False)\n",
    "        ax4.legend(loc='upper right',frameon=False)\n",
    "        plt.setp(legend.get_title(), multialignment='center')\n",
    "\n",
    "        ax[1,0].set_xlabel('reweight value')\n",
    "        ax[1,0].hist(w_model, bins=bins_w, **plot_style_2, label='Eb=0',color=\"blue\")\n",
    "\n",
    "        ax[1,1].set_xlabel('reweight value')\n",
    "        ax[1,1].set_ylabel(xlabel[plotNum])\n",
    "        ax[1,1].hist2d(w_model, array11_Eb0[:,plotNum], bins=(bins_w,bins_array[plotNum]))\n",
    "\n",
    "        #ax[2,0].hist2d(array11_Eb0[:,0], array11_Eb0[:,1], bins=(bins_mumom,bins_mumom))\n",
    "\n",
    "        #ax[2,1].hist2d(array11_Eb27[:,0], array11_Eb27[:,1], bins=(bins_mumom,bins_mumom))\n",
    "\n",
    "        fig.show()"
   ]
  },
  {
   "cell_type": "code",
   "execution_count": null,
   "metadata": {},
   "outputs": [],
   "source": []
  }
 ]
}